{
 "cells": [
  {
   "cell_type": "code",
   "execution_count": 1,
   "metadata": {
    "ExecuteTime": {
     "end_time": "2022-01-19T00:42:26.088104Z",
     "start_time": "2022-01-19T00:42:25.652719Z"
    }
   },
   "outputs": [],
   "source": [
    "import pandas as pd\n",
    "from datetime import datetime"
   ]
  },
  {
   "cell_type": "code",
   "execution_count": 2,
   "metadata": {
    "ExecuteTime": {
     "end_time": "2022-01-19T00:43:30.951544Z",
     "start_time": "2022-01-19T00:43:30.942531Z"
    }
   },
   "outputs": [],
   "source": [
    "def return_multiple_answers(row):\n",
    "    return [i for i in row.values if isinstance(i, str)]\n",
    "def return_single_answer(row):\n",
    "    strings = return_multiple_answers(row)\n",
    "    return strings[0] if strings else None"
   ]
  },
  {
   "cell_type": "code",
   "execution_count": 3,
   "metadata": {
    "ExecuteTime": {
     "end_time": "2022-01-19T00:43:31.249006Z",
     "start_time": "2022-01-19T00:43:31.247005Z"
    }
   },
   "outputs": [],
   "source": [
    "def find_center(df, cols = [\"Q2\", \"Q3\", \"Q4\", \"Q6\", \"Q7\", \"Q8\", \"Q9\", \"Q107\"]):\n",
    "    return df[cols].apply(lambda row: return_single_answer(row), axis=1)"
   ]
  },
  {
   "cell_type": "code",
   "execution_count": 4,
   "metadata": {
    "ExecuteTime": {
     "end_time": "2022-01-19T00:43:31.666172Z",
     "start_time": "2022-01-19T00:43:31.650170Z"
    }
   },
   "outputs": [],
   "source": [
    "def find_responses_by_question(df, Q):\n",
    "    cols = [i for i in df.keys() if i.startswith(Q)]\n",
    "    return df[cols].apply(lambda row: return_multiple_answers(row), axis=1) "
   ]
  },
  {
   "cell_type": "code",
   "execution_count": 5,
   "metadata": {
    "ExecuteTime": {
     "end_time": "2022-01-19T00:43:32.253948Z",
     "start_time": "2022-01-19T00:43:32.236971Z"
    }
   },
   "outputs": [],
   "source": [
    "def select_by_date(df, start, end):\n",
    "    mask = (df['date'] >= start) & (df['date'] <= end)\n",
    "    return df[mask]"
   ]
  },
  {
   "cell_type": "code",
   "execution_count": 6,
   "metadata": {
    "ExecuteTime": {
     "end_time": "2022-01-19T00:43:33.787244Z",
     "start_time": "2022-01-19T00:43:33.754209Z"
    }
   },
   "outputs": [],
   "source": [
    "#add the path to the qualtrics survey here\n",
    "csv_name = \"./Boston-UPK+Coaching+Log_January+24,+2022_12.28.csv\"\n",
    "survey_results = pd.read_csv(csv_name)"
   ]
  },
  {
   "cell_type": "code",
   "execution_count": 7,
   "metadata": {
    "ExecuteTime": {
     "end_time": "2022-01-19T00:43:34.130804Z",
     "start_time": "2022-01-19T00:43:34.086701Z"
    }
   },
   "outputs": [],
   "source": [
    "#delete first rows of survey which contain addnl info about the Qs\n",
    "survey_results2 = survey_results[3:]\n",
    "\n",
    "#deleting where date is none\n",
    "survey_results2 = survey_results2.dropna(subset=[\"Q18#1_1\"])\n",
    "\n",
    "#formatting the date because now it's 3 separate columns\n",
    "survey_results2[\"date\"] = survey_results2.apply(lambda row: datetime.strptime(str(row[\"Q18#1_1\"]) + str(row[\"Q18#2_1\"]) + str(row[\"Q18#3_1\"]), '%B%d%Y'), axis=1)\n",
    "survey_results2[\"month_year\"] = survey_results2[\"date\"].apply(lambda x: x.strftime('%m-%Y'))"
   ]
  },
  {
   "cell_type": "code",
   "execution_count": 8,
   "metadata": {
    "ExecuteTime": {
     "end_time": "2022-01-19T00:43:35.344559Z",
     "start_time": "2022-01-19T00:43:35.323584Z"
    }
   },
   "outputs": [],
   "source": [
    "# Modify dates here if needed, please keep same format!\n",
    "\n",
    "start = \"2020-01-01\"\n",
    "end = \"2021-08-01\"\n",
    "\n",
    "start_date = datetime.strptime(start, \"%Y-%m-%d\")\n",
    "end_date = datetime.strptime(end, \"%Y-%m-%d\")\n",
    "\n",
    "survey_results2 = select_by_date(survey_results2, start_date, end_date)"
   ]
  },
  {
   "cell_type": "code",
   "execution_count": 9,
   "metadata": {
    "ExecuteTime": {
     "end_time": "2022-01-19T00:43:35.681644Z",
     "start_time": "2022-01-19T00:43:35.655643Z"
    }
   },
   "outputs": [],
   "source": [
    "#creating a new df with only the data we need. this is necessary bc each question in the original csv has Q6_1, Q6_2... \n",
    "#etc that are all corresponding to an mcq answer to each Q. ,Only one such column is picked, so we compress all those \n",
    "#columns into one in this df, just representing the selected answer in the column. Un dummying if you will. \n",
    "\n",
    "df = pd.DataFrame()\n",
    "df[\"center\"] = find_center(survey_results2)\n",
    "df[\"coaching\"] = find_responses_by_question(survey_results2, \"Q23\")\n",
    "df[\"curriculum_observed\"] = find_responses_by_question(survey_results2, \"Q51\")\n",
    "df[\"focus\"]  = find_responses_by_question(survey_results2, \"Q53\")\n",
    "df[\"bb\"]  = find_responses_by_question(survey_results2, \"Q54\")\n",
    "\n",
    "df[\"month_year\"] = survey_results2[\"date\"].apply(lambda x: x.strftime('%m-%Y'))"
   ]
  },
  {
   "cell_type": "code",
   "execution_count": 10,
   "metadata": {
    "ExecuteTime": {
     "end_time": "2022-01-19T02:18:46.261478Z",
     "start_time": "2022-01-19T02:18:46.247494Z"
    }
   },
   "outputs": [],
   "source": [
    "def count(df, q_cols = ['coaching', 'curriculum_observed', 'focus', 'bb']):\n",
    "    centers = set(df['center'])\n",
    "    centers.remove(None)\n",
    "    counts_by_center_by_date = {center :{} for center in centers}\n",
    "    counts_by_center_by_date_by_question = {question:{center :{} for center in centers} for question in q_cols}\n",
    "    for i, row in df.iterrows():\n",
    "        center = row['center']\n",
    "        if center == None:\n",
    "            continue\n",
    "        date = row['month_year']\n",
    "        counts_by_center_by_date[center].setdefault(date, 0)\n",
    "        counts_by_center_by_date[center][date] += 1\n",
    "        for question in q_cols:\n",
    "            responses = row[question]\n",
    "            for j in responses:\n",
    "                count = counts_by_center_by_date_by_question[question][center].setdefault(date, {})\n",
    "                j_type_counts = count.setdefault(j, 0)\n",
    "                counts_by_center_by_date_by_question[question][center][date][j] += 1 \n",
    "    return counts_by_center_by_date, counts_by_center_by_date_by_question"
   ]
  },
  {
   "cell_type": "code",
   "execution_count": 11,
   "metadata": {},
   "outputs": [],
   "source": [
    "def create_session_df_from_dict(dictionary, filename) :   \n",
    "    dff = pd.DataFrame()\n",
    "    school = []\n",
    "    date = []\n",
    "    sessions_count = []\n",
    "\n",
    "    for k, v in dictionary.items():\n",
    "        for i, j in v.items():\n",
    "            school.append(k)\n",
    "            date.append(i)\n",
    "            sessions_count.append(j)       \n",
    "\n",
    "    dff[\"school\"] = school\n",
    "    dff[\"date\"] = date\n",
    "    dff[\"session_count\"] = sessions_count\n",
    "    dff.to_csv(filename, index = False)\n",
    "    print(dff.shape)"
   ]
  },
  {
   "cell_type": "code",
   "execution_count": 12,
   "metadata": {},
   "outputs": [
    {
     "name": "stdout",
     "output_type": "stream",
     "text": [
      "(219, 3)\n"
     ]
    }
   ],
   "source": [
    "session_df = create_session_df_from_dict(count(df)[0], \"./session.csv\")"
   ]
  },
  {
   "cell_type": "code",
   "execution_count": 14,
   "metadata": {},
   "outputs": [],
   "source": [
    "def create_other_dfs_from_dict(dictionary, filename):    \n",
    "    for csv, school_dicts in dictionary.items():\n",
    "        df = pd.DataFrame()\n",
    "        school = []\n",
    "        date = []\n",
    "        coaching = []\n",
    "        coaching_counts = []\n",
    "        for k, v in school_dicts.items():\n",
    "            for i, j in v.items():\n",
    "                for coaching_type, coaching_count in j.items():\n",
    "                    school.append(k)\n",
    "                    date.append(i)   \n",
    "                    coaching.append(coaching_type)\n",
    "                    coaching_counts.append(coaching_count)\n",
    "                    \n",
    "        df[\"school\"] = school\n",
    "        df[\"date\"] = pd.to_datetime(date)\n",
    "        df[\"type\"] = coaching\n",
    "        df[\"count\"] = coaching_counts\n",
    "        df.to_csv(\"./\" + csv + filename, index = False)\n",
    "        print(df.shape)\n",
    "        print(csv, \"done\")\n"
   ]
  },
  {
   "cell_type": "code",
   "execution_count": 15,
   "metadata": {},
   "outputs": [
    {
     "name": "stdout",
     "output_type": "stream",
     "text": [
      "(317, 4)\n",
      "coaching done\n",
      "(394, 4)\n",
      "curriculum_observed done\n",
      "(309, 4)\n",
      "focus done\n",
      "(216, 4)\n",
      "bb done\n"
     ]
    }
   ],
   "source": [
    "create_other_dfs_from_dict(count(df)[1], \".csv\")"
   ]
  },
  {
   "cell_type": "markdown",
   "metadata": {},
   "source": [
    "## Qualitative Responses:"
   ]
  },
  {
   "cell_type": "code",
   "execution_count": 19,
   "metadata": {},
   "outputs": [],
   "source": [
    "def write_out_qualitative_responses(survey_results, start_date, end_date):\n",
    "    df = select_by_date(survey_results, start_date, end_date)\n",
    "    #switch qs here if needed:\n",
    "    q70 = \"Briefly describe challenges in the classroom and/or your interaction with the instructional team in this session:\"\n",
    "    q71 = \"Briefly describe strengths in the classroom and/or your interaction with the instructional team in this session:\"\n",
    "    cols = [i  for i in survey_results.keys() if i in [\"Q70\", \"Q71\"]]\n",
    "    \n",
    "    Q70 = pd.DataFrame()\n",
    "    Q70[q70] =  return_multiple_answers(df[\"Q70\"])\n",
    "    \n",
    "    Q71 = pd.DataFrame()\n",
    "    Q71[q71] =  return_multiple_answers(df[\"Q71\"])\n",
    "    \n",
    "    Q70.to_csv(\"challenges_\"  + start + \"to\" + end + \".csv\" , index=False)\n",
    "    Q71.to_csv(\"strengths_\"  + start + \"to\" + end + \".csv\", index=False)\n",
    "\n",
    "    print(\"Qualitative Responses written out!\")\n"
   ]
  },
  {
   "cell_type": "code",
   "execution_count": 20,
   "metadata": {},
   "outputs": [
    {
     "name": "stdout",
     "output_type": "stream",
     "text": [
      "Qualitative Responses written out!\n"
     ]
    }
   ],
   "source": [
    "write_out_qualitative_responses(survey_results2, start_date, end_date)"
   ]
  },
  {
   "cell_type": "code",
   "execution_count": null,
   "metadata": {},
   "outputs": [],
   "source": []
  }
 ],
 "metadata": {
  "kernelspec": {
   "display_name": "Python 3",
   "language": "python",
   "name": "python3"
  },
  "language_info": {
   "codemirror_mode": {
    "name": "ipython",
    "version": 3
   },
   "file_extension": ".py",
   "mimetype": "text/x-python",
   "name": "python",
   "nbconvert_exporter": "python",
   "pygments_lexer": "ipython3",
   "version": "3.7.7"
  },
  "varInspector": {
   "cols": {
    "lenName": 16,
    "lenType": 16,
    "lenVar": 40
   },
   "kernels_config": {
    "python": {
     "delete_cmd_postfix": "",
     "delete_cmd_prefix": "del ",
     "library": "var_list.py",
     "varRefreshCmd": "print(var_dic_list())"
    },
    "r": {
     "delete_cmd_postfix": ") ",
     "delete_cmd_prefix": "rm(",
     "library": "var_list.r",
     "varRefreshCmd": "cat(var_dic_list()) "
    }
   },
   "types_to_exclude": [
    "module",
    "function",
    "builtin_function_or_method",
    "instance",
    "_Feature"
   ],
   "window_display": false
  }
 },
 "nbformat": 4,
 "nbformat_minor": 4
}
